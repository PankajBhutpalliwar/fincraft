{
 "cells": [
  {
   "cell_type": "markdown",
   "id": "f88a4f3c",
   "metadata": {},
   "source": [
    "Write a Python program that finds the longest common substring between two strings."
   ]
  },
  {
   "cell_type": "code",
   "execution_count": 24,
   "id": "300ef991",
   "metadata": {},
   "outputs": [],
   "source": [
    "def fin_len(A,B):\n",
    "    n = len(A)\n",
    "    m = len(B)\n",
    "    ans = [[0 for k in range(n+1)] for j in range(m+1)]\n",
    "    result = 0\n",
    "    for i in range(m+1):\n",
    "        for j in range(n+1):\n",
    "            if (i==0 or j==0):\n",
    "                ans[i][j]=0\n",
    "            elif (A[i]==B[j]):\n",
    "                ans[i][j]=ans[i-1][j-1]+1\n",
    "                result = max(result,ans[i][j])\n",
    "            else:\n",
    "                ans[i][j] = 0\n",
    "    return result\n"
   ]
  },
  {
   "cell_type": "markdown",
   "id": "8cb19854",
   "metadata": {},
   "source": [
    "Implement a Python function that takes a list of integers and a target number as input, and returns a\n",
    "tuple of two integers that add up to the target number."
   ]
  },
  {
   "cell_type": "code",
   "execution_count": 4,
   "id": "1c40dbc7",
   "metadata": {},
   "outputs": [],
   "source": [
    "def func(l,num):\n",
    "    lis = []\n",
    "    for i in range(len(l)):\n",
    "        for j in range(i+1,len(l)+1):\n",
    "            if i+j == num:\n",
    "                lis.append((i,j))\n",
    "    return lis\n",
    "                "
   ]
  },
  {
   "cell_type": "code",
   "execution_count": 6,
   "id": "7074b95e",
   "metadata": {},
   "outputs": [
    {
     "data": {
      "text/plain": [
       "[(1, 6), (2, 5), (3, 4)]"
      ]
     },
     "execution_count": 6,
     "metadata": {},
     "output_type": "execute_result"
    }
   ],
   "source": [
    "func([1,2,3,4,5,7],7)"
   ]
  },
  {
   "cell_type": "code",
   "execution_count": null,
   "id": "a1d9e066",
   "metadata": {},
   "outputs": [],
   "source": []
  }
 ],
 "metadata": {
  "kernelspec": {
   "display_name": "Python 3 (ipykernel)",
   "language": "python",
   "name": "python3"
  },
  "language_info": {
   "codemirror_mode": {
    "name": "ipython",
    "version": 3
   },
   "file_extension": ".py",
   "mimetype": "text/x-python",
   "name": "python",
   "nbconvert_exporter": "python",
   "pygments_lexer": "ipython3",
   "version": "3.9.7"
  }
 },
 "nbformat": 4,
 "nbformat_minor": 5
}
